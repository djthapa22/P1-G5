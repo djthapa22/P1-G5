{
 "cells": [
  {
   "cell_type": "code",
   "execution_count": 16,
   "id": "79c663f5",
   "metadata": {},
   "outputs": [],
   "source": [
    "import matplotlib.pyplot as plt\n",
    "import pandas as pd\n"
   ]
  },
  {
   "cell_type": "code",
   "execution_count": 17,
   "id": "018e50c2",
   "metadata": {},
   "outputs": [],
   "source": [
    "filepath = \"Assessors_Parcel_Data_2022.csv\"\n",
    "home_value_data = pd.read_csv(filepath)"
   ]
  },
  {
   "cell_type": "code",
   "execution_count": 18,
   "id": "5f23a6e7",
   "metadata": {},
   "outputs": [
    {
     "data": {
      "text/html": [
       "<div>\n",
       "<style scoped>\n",
       "    .dataframe tbody tr th:only-of-type {\n",
       "        vertical-align: middle;\n",
       "    }\n",
       "\n",
       "    .dataframe tbody tr th {\n",
       "        vertical-align: top;\n",
       "    }\n",
       "\n",
       "    .dataframe thead th {\n",
       "        text-align: right;\n",
       "    }\n",
       "</style>\n",
       "<table border=\"1\" class=\"dataframe\">\n",
       "  <thead>\n",
       "    <tr style=\"text-align: right;\">\n",
       "      <th></th>\n",
       "      <th>ASMTYEAR</th>\n",
       "      <th>TAXYEAR</th>\n",
       "      <th>HOUSE_NO</th>\n",
       "      <th>STREET_NAME</th>\n",
       "      <th>UNIT_NO</th>\n",
       "      <th>ZIP_POSTAL</th>\n",
       "      <th>FORMATTED_ADDRESS</th>\n",
       "      <th>OWNERNM</th>\n",
       "      <th>TAXPAYER1</th>\n",
       "      <th>TAXPAYER2</th>\n",
       "      <th>...</th>\n",
       "      <th>TOTALVALUE</th>\n",
       "      <th>NUM_BLDGS</th>\n",
       "      <th>BUILDINGUSE</th>\n",
       "      <th>YEARBUILT</th>\n",
       "      <th>NUM_STORIES</th>\n",
       "      <th>PRIMARYHEATING</th>\n",
       "      <th>TOTAL_UNITS</th>\n",
       "      <th>FIREPLACES</th>\n",
       "      <th>BATHROOMS</th>\n",
       "      <th>BEDROOMS</th>\n",
       "    </tr>\n",
       "  </thead>\n",
       "  <tbody>\n",
       "    <tr>\n",
       "      <th>0</th>\n",
       "      <td>2022</td>\n",
       "      <td>2023</td>\n",
       "      <td>2815</td>\n",
       "      <td>LAKE ST E</td>\n",
       "      <td>NaN</td>\n",
       "      <td>55406-1929</td>\n",
       "      <td>2815 LAKE ST E</td>\n",
       "      <td>TRUHER LLC</td>\n",
       "      <td>TRUHER LLC</td>\n",
       "      <td>977 PAYNE AVE</td>\n",
       "      <td>...</td>\n",
       "      <td>125800</td>\n",
       "      <td>0</td>\n",
       "      <td>NaN</td>\n",
       "      <td>NaN</td>\n",
       "      <td>NaN</td>\n",
       "      <td>NaN</td>\n",
       "      <td>0.0</td>\n",
       "      <td>0</td>\n",
       "      <td>0</td>\n",
       "      <td>0</td>\n",
       "    </tr>\n",
       "    <tr>\n",
       "      <th>1</th>\n",
       "      <td>2022</td>\n",
       "      <td>2023</td>\n",
       "      <td>3016</td>\n",
       "      <td>29TH AVE S</td>\n",
       "      <td>NaN</td>\n",
       "      <td>55406-1961</td>\n",
       "      <td>3016 29TH AVE S</td>\n",
       "      <td>SAMIR &amp; KAWTHAR PROPERTIES</td>\n",
       "      <td>SAMIR PROPERTITES</td>\n",
       "      <td>461 W MARYLAND AVE  #203</td>\n",
       "      <td>...</td>\n",
       "      <td>2718000</td>\n",
       "      <td>1</td>\n",
       "      <td>APARTMENT 6+ UNIT</td>\n",
       "      <td>1961.0</td>\n",
       "      <td>2.0</td>\n",
       "      <td>HOT WATER</td>\n",
       "      <td>26.0</td>\n",
       "      <td>0</td>\n",
       "      <td>0</td>\n",
       "      <td>0</td>\n",
       "    </tr>\n",
       "    <tr>\n",
       "      <th>2</th>\n",
       "      <td>2022</td>\n",
       "      <td>2023</td>\n",
       "      <td>3020</td>\n",
       "      <td>29TH AVE S</td>\n",
       "      <td>NaN</td>\n",
       "      <td>55406-1920</td>\n",
       "      <td>3020 29TH AVE S</td>\n",
       "      <td>ROBERT BIXBY</td>\n",
       "      <td>ROBERT BIXBY</td>\n",
       "      <td>3020 29TH AVE S</td>\n",
       "      <td>...</td>\n",
       "      <td>308000</td>\n",
       "      <td>1</td>\n",
       "      <td>SINGLE FAMILY HOUSE</td>\n",
       "      <td>1910.0</td>\n",
       "      <td>1.7</td>\n",
       "      <td>HOT WATER</td>\n",
       "      <td>1.0</td>\n",
       "      <td>0</td>\n",
       "      <td>1</td>\n",
       "      <td>3</td>\n",
       "    </tr>\n",
       "    <tr>\n",
       "      <th>3</th>\n",
       "      <td>2022</td>\n",
       "      <td>2023</td>\n",
       "      <td>3024</td>\n",
       "      <td>29TH AVE S</td>\n",
       "      <td>NaN</td>\n",
       "      <td>55406-1920</td>\n",
       "      <td>3024 29TH AVE S</td>\n",
       "      <td>ELROY L NEUHAUS ET AL</td>\n",
       "      <td>ELROY L NEUHAUS</td>\n",
       "      <td>DONELLA M NEUHAUS</td>\n",
       "      <td>...</td>\n",
       "      <td>216000</td>\n",
       "      <td>1</td>\n",
       "      <td>SINGLE FAMILY HOUSE</td>\n",
       "      <td>1910.0</td>\n",
       "      <td>1.7</td>\n",
       "      <td>HOT WATER</td>\n",
       "      <td>1.0</td>\n",
       "      <td>0</td>\n",
       "      <td>2</td>\n",
       "      <td>3</td>\n",
       "    </tr>\n",
       "    <tr>\n",
       "      <th>4</th>\n",
       "      <td>2022</td>\n",
       "      <td>2023</td>\n",
       "      <td>2727</td>\n",
       "      <td>LAKE ST E</td>\n",
       "      <td>NaN</td>\n",
       "      <td>55406-1927</td>\n",
       "      <td>2727 LAKE ST E</td>\n",
       "      <td>COUNTY OF HENNEPIN</td>\n",
       "      <td>COUNTY OF HENNEPIN</td>\n",
       "      <td>ATTN: REAL ESTATE MANAGER</td>\n",
       "      <td>...</td>\n",
       "      <td>0</td>\n",
       "      <td>1</td>\n",
       "      <td>LIBRARY</td>\n",
       "      <td>1976.0</td>\n",
       "      <td>1.0</td>\n",
       "      <td>HOT WATER</td>\n",
       "      <td>0.0</td>\n",
       "      <td>0</td>\n",
       "      <td>0</td>\n",
       "      <td>0</td>\n",
       "    </tr>\n",
       "  </tbody>\n",
       "</table>\n",
       "<p>5 rows × 30 columns</p>\n",
       "</div>"
      ],
      "text/plain": [
       "   ASMTYEAR  TAXYEAR HOUSE_NO STREET_NAME UNIT_NO  ZIP_POSTAL  \\\n",
       "0      2022     2023     2815   LAKE ST E     NaN  55406-1929   \n",
       "1      2022     2023     3016  29TH AVE S     NaN  55406-1961   \n",
       "2      2022     2023     3020  29TH AVE S     NaN  55406-1920   \n",
       "3      2022     2023     3024  29TH AVE S     NaN  55406-1920   \n",
       "4      2022     2023     2727   LAKE ST E     NaN  55406-1927   \n",
       "\n",
       "  FORMATTED_ADDRESS                     OWNERNM           TAXPAYER1  \\\n",
       "0    2815 LAKE ST E                  TRUHER LLC          TRUHER LLC   \n",
       "1   3016 29TH AVE S  SAMIR & KAWTHAR PROPERTIES   SAMIR PROPERTITES   \n",
       "2   3020 29TH AVE S                ROBERT BIXBY        ROBERT BIXBY   \n",
       "3   3024 29TH AVE S       ELROY L NEUHAUS ET AL     ELROY L NEUHAUS   \n",
       "4    2727 LAKE ST E          COUNTY OF HENNEPIN  COUNTY OF HENNEPIN   \n",
       "\n",
       "                   TAXPAYER2  ... TOTALVALUE NUM_BLDGS          BUILDINGUSE  \\\n",
       "0              977 PAYNE AVE  ...     125800         0                  NaN   \n",
       "1   461 W MARYLAND AVE  #203  ...    2718000         1    APARTMENT 6+ UNIT   \n",
       "2            3020 29TH AVE S  ...     308000         1  SINGLE FAMILY HOUSE   \n",
       "3          DONELLA M NEUHAUS  ...     216000         1  SINGLE FAMILY HOUSE   \n",
       "4  ATTN: REAL ESTATE MANAGER  ...          0         1              LIBRARY   \n",
       "\n",
       "  YEARBUILT  NUM_STORIES PRIMARYHEATING  TOTAL_UNITS FIREPLACES  BATHROOMS  \\\n",
       "0       NaN          NaN            NaN          0.0          0          0   \n",
       "1    1961.0          2.0      HOT WATER         26.0          0          0   \n",
       "2    1910.0          1.7      HOT WATER          1.0          0          1   \n",
       "3    1910.0          1.7      HOT WATER          1.0          0          2   \n",
       "4    1976.0          1.0      HOT WATER          0.0          0          0   \n",
       "\n",
       "   BEDROOMS  \n",
       "0         0  \n",
       "1         0  \n",
       "2         3  \n",
       "3         3  \n",
       "4         0  \n",
       "\n",
       "[5 rows x 30 columns]"
      ]
     },
     "execution_count": 18,
     "metadata": {},
     "output_type": "execute_result"
    }
   ],
   "source": [
    "home_value_data.head()"
   ]
  },
  {
   "cell_type": "code",
   "execution_count": 20,
   "id": "c5965ae5",
   "metadata": {},
   "outputs": [
    {
     "data": {
      "text/plain": [
       "NORTHLOOP                 3880\n",
       "DOWNTOWN EAST             3424\n",
       "LINDEN HILLS              3161\n",
       "DOWNTOWN WEST             2969\n",
       "HOWE                      2791\n",
       "                          ... \n",
       "NORTHEAST PARK             339\n",
       "SUMNER-GLENWOOD            224\n",
       "UNIVERSITY                 112\n",
       "CAMDEN INDUSTRIAL AREA      84\n",
       "HUMBOLDT INDUST AREA        39\n",
       "Name: NEIGHBORHOOD, Length: 87, dtype: int64"
      ]
     },
     "execution_count": 20,
     "metadata": {},
     "output_type": "execute_result"
    }
   ],
   "source": [
    "home_value_data['NEIGHBORHOOD'].value_counts()"
   ]
  },
  {
   "cell_type": "code",
   "execution_count": 28,
   "id": "7a1c94fc",
   "metadata": {},
   "outputs": [
    {
     "data": {
      "text/plain": [
       "11"
      ]
     },
     "execution_count": 28,
     "metadata": {},
     "output_type": "execute_result"
    }
   ],
   "source": [
    "len(home_value_data[\"COMMUNITY\"].unique())"
   ]
  },
  {
   "cell_type": "code",
   "execution_count": 21,
   "id": "1b32f263",
   "metadata": {},
   "outputs": [
    {
     "data": {
      "text/plain": [
       "Index(['ASMTYEAR', 'TAXYEAR', 'HOUSE_NO', 'STREET_NAME', 'UNIT_NO',\n",
       "       'ZIP_POSTAL', 'FORMATTED_ADDRESS', 'OWNERNM', 'TAXPAYER1', 'TAXPAYER2',\n",
       "       'TAXPAYER3', 'TAXPAYER4', 'NEIGHBORHOOD', 'COMMUNITY', 'WARD',\n",
       "       'LANDUSE', 'PARCEL_AREA_SQFT', 'PRIMARY_PROP_TYPE', 'LANDVALUE',\n",
       "       'BLDGVALUE', 'TOTALVALUE', 'NUM_BLDGS', 'BUILDINGUSE', 'YEARBUILT',\n",
       "       'NUM_STORIES', 'PRIMARYHEATING', 'TOTAL_UNITS', 'FIREPLACES',\n",
       "       'BATHROOMS', 'BEDROOMS'],\n",
       "      dtype='object')"
      ]
     },
     "execution_count": 21,
     "metadata": {},
     "output_type": "execute_result"
    }
   ],
   "source": [
    "home_value_data.columns"
   ]
  },
  {
   "cell_type": "code",
   "execution_count": 13,
   "id": "d3013843",
   "metadata": {},
   "outputs": [
    {
     "data": {
      "text/plain": [
       "'SUB3_EXEMPTCD'"
      ]
     },
     "execution_count": 13,
     "metadata": {},
     "output_type": "execute_result"
    }
   ],
   "source": [
    "columns[36]"
   ]
  },
  {
   "cell_type": "code",
   "execution_count": 15,
   "id": "fb164dfe",
   "metadata": {},
   "outputs": [
    {
     "data": {
      "text/plain": [
       "53"
      ]
     },
     "execution_count": 15,
     "metadata": {},
     "output_type": "execute_result"
    }
   ],
   "source": [
    "len(home_value_data.columns)"
   ]
  },
  {
   "cell_type": "code",
   "execution_count": null,
   "id": "bb22cbe6",
   "metadata": {},
   "outputs": [],
   "source": []
  }
 ],
 "metadata": {
  "kernelspec": {
   "display_name": "PythonData",
   "language": "python",
   "name": "pythondata"
  },
  "language_info": {
   "codemirror_mode": {
    "name": "ipython",
    "version": 3
   },
   "file_extension": ".py",
   "mimetype": "text/x-python",
   "name": "python",
   "nbconvert_exporter": "python",
   "pygments_lexer": "ipython3",
   "version": "3.9.13"
  }
 },
 "nbformat": 4,
 "nbformat_minor": 5
}
